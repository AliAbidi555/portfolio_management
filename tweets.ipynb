{
 "cells": [
  {
   "cell_type": "code",
   "execution_count": 18,
   "id": "b5d025bd-8b66-4366-afca-8a402b48c057",
   "metadata": {},
   "outputs": [],
   "source": [
    "%%capture\n",
    "!pip install tweepy\n",
    "%run config.py"
   ]
  },
  {
   "cell_type": "code",
   "execution_count": 14,
   "id": "c9fe70de-0859-4557-90a4-233f9852afd2",
   "metadata": {},
   "outputs": [],
   "source": [
    "from alpha_vantage.timeseries import TimeSeries\n",
    "import quandl\n",
    "import matplotlib.pyplot as plt\n",
    "import config \n",
    "import plotly.express as px\n",
    "import pandas as pd\n",
    "import os\n",
    "import numpy as np\n",
    "import datetime\n",
    "import plotly.io as pio\n",
    "pio.renderers.default = 'notebook'\n",
    "from arch import arch_model\n",
    "import cvxpy as cp\n",
    "import tweepy"
   ]
  },
  {
   "cell_type": "code",
   "execution_count": 20,
   "id": "d4598e03-f45b-40fc-9fe9-cd9882da1985",
   "metadata": {},
   "outputs": [],
   "source": [
    "# Twitter API credentials\n",
    "\n",
    "\n",
    "client = tweepy.Client(bearer_token=bearer_token)"
   ]
  },
  {
   "cell_type": "code",
   "execution_count": 21,
   "id": "b2acd7a3-4703-4031-82b4-5794e39b43cb",
   "metadata": {},
   "outputs": [
    {
     "data": {
      "text/plain": [
       "<tweepy.client.Client at 0x1dd0a70c1c0>"
      ]
     },
     "execution_count": 21,
     "metadata": {},
     "output_type": "execute_result"
    }
   ],
   "source": [
    "client"
   ]
  },
  {
   "cell_type": "code",
   "execution_count": null,
   "id": "d3ce12ed-6789-45a0-8858-71c5ea057578",
   "metadata": {},
   "outputs": [],
   "source": []
  }
 ],
 "metadata": {
  "kernelspec": {
   "display_name": "Python 3",
   "language": "python",
   "name": "python3"
  },
  "language_info": {
   "codemirror_mode": {
    "name": "ipython",
    "version": 3
   },
   "file_extension": ".py",
   "mimetype": "text/x-python",
   "name": "python",
   "nbconvert_exporter": "python",
   "pygments_lexer": "ipython3",
   "version": "3.8.8"
  }
 },
 "nbformat": 4,
 "nbformat_minor": 5
}
