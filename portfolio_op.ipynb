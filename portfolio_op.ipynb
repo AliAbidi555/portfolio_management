{
 "cells": [
  {
   "cell_type": "code",
   "execution_count": 10,
   "id": "a8d465a5-5c5b-4e11-9828-9b37011c0075",
   "metadata": {},
   "outputs": [
    {
     "name": "stdout",
     "output_type": "stream",
     "text": [
      "Requirement already satisfied: alpha_vantage in c:\\users\\mohda\\anaconda3\\lib\\site-packages (2.3.1)\n",
      "Requirement already satisfied: requests in c:\\users\\mohda\\anaconda3\\lib\\site-packages (from alpha_vantage) (2.25.1)\n",
      "Requirement already satisfied: aiohttp in c:\\users\\mohda\\anaconda3\\lib\\site-packages (from alpha_vantage) (3.8.5)\n",
      "Requirement already satisfied: attrs>=17.3.0 in c:\\users\\mohda\\anaconda3\\lib\\site-packages (from aiohttp->alpha_vantage) (20.3.0)\n",
      "Requirement already satisfied: aiosignal>=1.1.2 in c:\\users\\mohda\\anaconda3\\lib\\site-packages (from aiohttp->alpha_vantage) (1.3.1)\n",
      "Requirement already satisfied: charset-normalizer<4.0,>=2.0 in c:\\users\\mohda\\anaconda3\\lib\\site-packages (from aiohttp->alpha_vantage) (3.3.0)\n",
      "Requirement already satisfied: yarl<2.0,>=1.0 in c:\\users\\mohda\\anaconda3\\lib\\site-packages (from aiohttp->alpha_vantage) (1.9.2)\n",
      "Requirement already satisfied: multidict<7.0,>=4.5 in c:\\users\\mohda\\anaconda3\\lib\\site-packages (from aiohttp->alpha_vantage) (6.0.4)\n",
      "Requirement already satisfied: async-timeout<5.0,>=4.0.0a3 in c:\\users\\mohda\\anaconda3\\lib\\site-packages (from aiohttp->alpha_vantage) (4.0.3)\n",
      "Requirement already satisfied: frozenlist>=1.1.1 in c:\\users\\mohda\\anaconda3\\lib\\site-packages (from aiohttp->alpha_vantage) (1.4.0)\n",
      "Requirement already satisfied: idna>=2.0 in c:\\users\\mohda\\anaconda3\\lib\\site-packages (from yarl<2.0,>=1.0->aiohttp->alpha_vantage) (2.10)\n",
      "Requirement already satisfied: chardet<5,>=3.0.2 in c:\\users\\mohda\\anaconda3\\lib\\site-packages (from requests->alpha_vantage) (4.0.0)\n",
      "Requirement already satisfied: urllib3<1.27,>=1.21.1 in c:\\users\\mohda\\anaconda3\\lib\\site-packages (from requests->alpha_vantage) (1.26.4)\n",
      "Requirement already satisfied: certifi>=2017.4.17 in c:\\users\\mohda\\anaconda3\\lib\\site-packages (from requests->alpha_vantage) (2020.12.5)\n",
      "Note: you may need to restart the kernel to use updated packages.\n"
     ]
    }
   ],
   "source": [
    "\n",
    "pip install alpha_vantage"
   ]
  },
  {
   "cell_type": "code",
   "execution_count": 11,
   "id": "c4dc62e0-992e-4549-8e6f-e519faf652a8",
   "metadata": {},
   "outputs": [
    {
     "name": "stdout",
     "output_type": "stream",
     "text": [
      "Collecting quandl\n",
      "  Downloading Quandl-3.7.0-py2.py3-none-any.whl (26 kB)\n",
      "Requirement already satisfied: more-itertools in c:\\users\\mohda\\anaconda3\\lib\\site-packages (from quandl) (8.7.0)\n",
      "Requirement already satisfied: numpy>=1.8 in c:\\users\\mohda\\anaconda3\\lib\\site-packages (from quandl) (1.20.1)\n",
      "Collecting inflection>=0.3.1\n",
      "  Downloading inflection-0.5.1-py2.py3-none-any.whl (9.5 kB)\n",
      "Requirement already satisfied: pandas>=0.14 in c:\\users\\mohda\\anaconda3\\lib\\site-packages (from quandl) (1.2.4)\n",
      "Requirement already satisfied: python-dateutil in c:\\users\\mohda\\anaconda3\\lib\\site-packages (from quandl) (2.8.1)\n",
      "Requirement already satisfied: requests>=2.7.0 in c:\\users\\mohda\\anaconda3\\lib\\site-packages (from quandl) (2.25.1)\n",
      "Requirement already satisfied: six in c:\\users\\mohda\\anaconda3\\lib\\site-packages (from quandl) (1.15.0)\n",
      "Requirement already satisfied: pytz>=2017.3 in c:\\users\\mohda\\anaconda3\\lib\\site-packages (from pandas>=0.14->quandl) (2021.1)\n",
      "Requirement already satisfied: certifi>=2017.4.17 in c:\\users\\mohda\\anaconda3\\lib\\site-packages (from requests>=2.7.0->quandl) (2020.12.5)\n",
      "Requirement already satisfied: chardet<5,>=3.0.2 in c:\\users\\mohda\\anaconda3\\lib\\site-packages (from requests>=2.7.0->quandl) (4.0.0)\n",
      "Requirement already satisfied: urllib3<1.27,>=1.21.1 in c:\\users\\mohda\\anaconda3\\lib\\site-packages (from requests>=2.7.0->quandl) (1.26.4)\n",
      "Requirement already satisfied: idna<3,>=2.5 in c:\\users\\mohda\\anaconda3\\lib\\site-packages (from requests>=2.7.0->quandl) (2.10)\n",
      "Installing collected packages: inflection, quandl\n",
      "Successfully installed inflection-0.5.1 quandl-3.7.0\n",
      "Note: you may need to restart the kernel to use updated packages.\n"
     ]
    }
   ],
   "source": [
    "pip install quandl"
   ]
  },
  {
   "cell_type": "code",
   "execution_count": 21,
   "id": "cecb37ef-791a-4234-bf11-ca948cd05278",
   "metadata": {},
   "outputs": [],
   "source": [
    "from alpha_vantage.timeseries import TimeSeries\n",
    "import quandl\n",
    "import config\n"
   ]
  },
  {
   "cell_type": "code",
   "execution_count": 22,
   "id": "6c124727-910a-4926-9016-17d6954b2b9b",
   "metadata": {},
   "outputs": [
    {
     "name": "stdout",
     "output_type": "stream",
     "text": [
      "            1. open  2. high  3. low  4. close  5. volume\n",
      "date                                                     \n",
      "2023-09-29    34.69    34.74   34.50     34.57    57324.0\n",
      "2023-09-28    34.24    34.57   34.23     34.50    93500.0\n",
      "2023-09-27    34.45    34.50   34.11     34.28    80000.0\n",
      "2023-09-26    34.62    34.62   34.32     34.35   114800.0\n",
      "2023-09-25    34.59    34.74   34.53     34.70    97100.0\n"
     ]
    }
   ],
   "source": [
    "\n",
    "# Initialize the TimeSeries object with your API key\n",
    "ts = TimeSeries(key=config.api_key, output_format='pandas')\n",
    "\n",
    "# Define the symbol you want to fetch data for\n",
    "symbol = 'VEQT.TO'\n",
    "\n",
    "# Fetch daily historical stock data\n",
    "data, meta_data = ts.get_daily(symbol=symbol, outputsize='compact')\n",
    "\n",
    "# Print the data (data is a pandas DataFrame)\n",
    "print(data.head())"
   ]
  },
  {
   "cell_type": "code",
   "execution_count": null,
   "id": "18f054b9-0373-48e4-b509-38ded600fa35",
   "metadata": {},
   "outputs": [],
   "source": []
  },
  {
   "cell_type": "code",
   "execution_count": null,
   "id": "7c6d8bf1-34c1-4f1c-b3cf-181326dda9f8",
   "metadata": {},
   "outputs": [],
   "source": []
  },
  {
   "cell_type": "code",
   "execution_count": null,
   "id": "a310a69a-a39a-4447-bfe1-3383826dc4df",
   "metadata": {},
   "outputs": [],
   "source": []
  }
 ],
 "metadata": {
  "kernelspec": {
   "display_name": "Python 3",
   "language": "python",
   "name": "python3"
  },
  "language_info": {
   "codemirror_mode": {
    "name": "ipython",
    "version": 3
   },
   "file_extension": ".py",
   "mimetype": "text/x-python",
   "name": "python",
   "nbconvert_exporter": "python",
   "pygments_lexer": "ipython3",
   "version": "3.8.8"
  }
 },
 "nbformat": 4,
 "nbformat_minor": 5
}
